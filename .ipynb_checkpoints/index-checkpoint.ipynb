{
 "cells": [
  {
   "cell_type": "markdown",
   "metadata": {},
   "source": [
    "### Unix for Bioinformatics\n",
    "\n",
    "This is a Jupyter notebook, intended for use if you are having problems running the virtual machine on your local machine. Instead of typing the commands you see into a terminal window, you can follow the Unix tutorial by typing the commands into the cells (boxes) that appear below and then selecting the cell and clicking _Cell -> Run_ from the menu above or using _ctrl Enter_ to run the command.\n",
    "\n",
    "Let's give this a try by printing our working directory using the `pwd` command and listing the files within it. Run the commands in the two cells below."
   ]
  },
  {
   "cell_type": "code",
   "execution_count": null,
   "metadata": {},
   "outputs": [],
   "source": [
    "pwd"
   ]
  },
  {
   "cell_type": "code",
   "execution_count": null,
   "metadata": {},
   "outputs": [],
   "source": [
    "ls"
   ]
  },
  {
   "cell_type": "markdown",
   "metadata": {},
   "source": [
    "**Note:** The location or path to some of the files returned by your commands may differ slightly to those listed in the manual. This is because the data resides on a remote server (computer) rather than on the virtual machine running on your local machine. If you have any questions please ask an instructor.\n",
    "\n",
    "To get started, type the command below to go to the correct starting directory on this remote server."
   ]
  },
  {
   "cell_type": "code",
   "execution_count": null,
   "metadata": {},
   "outputs": [],
   "source": [
    "cd pathogen-informatics-training/Notebooks/Unix/"
   ]
  },
  {
   "cell_type": "markdown",
   "metadata": {},
   "source": [
    "Now continue with **Section 2 Basic Unix** in your manual, and type the commands you encounter in the cells below instead of a terminal window."
   ]
  },
  {
   "cell_type": "code",
   "execution_count": null,
   "metadata": {},
   "outputs": [],
   "source": []
  }
 ],
 "metadata": {
  "kernelspec": {
   "display_name": "Bash",
   "language": "bash",
   "name": "bash"
  },
  "language_info": {
   "codemirror_mode": "shell",
   "file_extension": ".sh",
   "mimetype": "text/x-sh",
   "name": "bash"
  }
 },
 "nbformat": 4,
 "nbformat_minor": 4
}
