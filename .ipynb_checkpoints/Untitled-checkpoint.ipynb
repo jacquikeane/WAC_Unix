{
 "cells": [
  {
   "cell_type": "markdown",
   "metadata": {},
   "source": [
    "### Unix for Bioinformatics\n",
    "\n",
    "This is a Jupyter notebook, intended for use if you are having problems running the virtual machine on your local machine. Instread of typing the commands you see into a terminal window, you can follow the Unix tutorial by typing the commands into the cells (boxes) that appear below and then.\n",
    "\n",
    "**Note:** The location or path to some of the files returned by your commands may differ slightly to those listed in the manual. This is because the data resides on a remote server (computer) rather than on the virtual machine running on your local machine. If you have any problems please ask an instructor."
   ]
  },
  {
   "cell_type": "code",
   "execution_count": null,
   "metadata": {},
   "outputs": [],
   "source": []
  }
 ],
 "metadata": {
  "kernelspec": {
   "display_name": "Bash",
   "language": "bash",
   "name": "bash"
  },
  "language_info": {
   "codemirror_mode": "shell",
   "file_extension": ".sh",
   "mimetype": "text/x-sh",
   "name": "bash"
  }
 },
 "nbformat": 4,
 "nbformat_minor": 4
}
